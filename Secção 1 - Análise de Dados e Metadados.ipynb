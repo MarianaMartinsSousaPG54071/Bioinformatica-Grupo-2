{
 "cells": [
  {
   "cell_type": "markdown",
   "id": "4b93a4b1",
   "metadata": {},
   "source": [
    "# Gene-Expression Differences in Peripheral Blood Between Lithium Responders and non-Responders in the Lithium Treatment-Moderate Dose Use Study"
   ]
  },
  {
   "cell_type": "markdown",
   "id": "f78b1080",
   "metadata": {},
   "source": [
    "## Secção 1 - Exploração do Dataset Pela Análise de Dados e Metadados "
   ]
  },
  {
   "cell_type": "markdown",
   "id": "be109a22",
   "metadata": {},
   "source": [
    "## Breve Descrição do Estudo e do Dataset"
   ]
  },
  {
   "cell_type": "markdown",
   "id": "3368fdd2",
   "metadata": {},
   "source": [
    "A Perturbação bipolar é uma patologia psiquiátrica crónica que se caracteriza por variações acentuadas do humor. Tipicamente, manifesta-se por episódios de elevação do humor, aumento da energia e da atividade e euforia, conhecidos como episódios maníacos ou hipomaníacos intercalados com fases de depressão e diminuição da energia e da atividade, conhecidos como episódios depressivos.\n",
    "Estes episódios podem ser graves, moderados ou leves e tem um grande impacto no quotidiano da pessoa afetada, uma vez que afeta sensações, emoções, ideias e comportamentos da mesma, o que se traduz numa perda significativa de qualidade de vida e de autonomia. \n",
    "Segundo dados da Organização Mundial da Saúde (OMS), a doença bipolar atinge atualmente cerca de 140 milhões de pessoas no mundo, já na realidade portuguesa, estima-se que existam 200 mil casos afetando cerca de 2% da população.\n",
    "\n",
    "O tratamento comum para desta patologia inclui terapia psicológica e o uso de medicamentos. Destes últimos destacam-se os medicamentos que contém lítio que atenua as mudanças de humor bipolares, mas não tem efeito no humor normal, sendo eficaz na prevenção de episódios maníacos e depressivos em pessoas com essa condição.\n",
    "\n",
    "### Estudo \n",
    "\n",
    "Neste estudo pretende-se aferir a influência do lítio no controlo e tratamento dos sintomas associados a esta perturbação. Para isto foi feito o ensaio com 60 utentes, estes foram divididos em grupo de controlo e em grupo tratado com lítio. A todos os pacientes foram retiradas 2 amostras de sangue periférico uma antes do tratamento com lítio e outra após 1 mês. A resposta ao tratamento foi analisada 6 meses depois através da expressão genética obtida através das análises ao sangue. Os resultados identificam uma assinatura de expressão genética para a resposta ao tratamento com lítio em pacientes com perturbação bipolar.\n",
    "\n",
    "### Dados Fornecidos \n",
    "\n",
    "Do estudo realizado resultaram dois ficheiros, o primeiro, referente aos dados (gds5393.csv) contém a expressão genética presente no sangue de cada amostra obtida, o segundo, referente aos metadados (meta-gds5393.csv), contém 120 amostras referentes às análises de sangue periférico de pacientes com transtorno bipolar.\n",
    "\n",
    "Ao analisar o conjunto de dados, observamos que os metadados incluem informações essenciais, as variáveis, expostas em colunas: \n",
    "\n",
    "- sample: (GSMXXXXXXX) Identificador da amostra. Existem 120, referentes a duas amostras de colheita de sangue por paciente.\n",
    "- agent: (control ou lithium) - Indica se a amostra é de um indivíduo de controlo ou de um submetido ao tratamento com lítio.\n",
    "- other: (responder ou non-responder) - Identifica se a amostra é de um indivíduo onde se verificou resposta ou não ao tratamento.\n",
    "- time: (baseline ou 1 month) - Indica quando é que a amostra foi recolhida.\n",
    "- individual: Identificador único do indivíduo, que pode ser OPT_(N) para indivíduos de control e Li+OPT_(N) para indivíduos que receberam lítio. \n",
    "              Cada um tem duas amostras (baseline e 1 month).\n",
    "- description: Descrição adicional sobre cada amostra.\n"
   ]
  },
  {
   "cell_type": "markdown",
   "id": "924018bf",
   "metadata": {},
   "source": [
    "## Data Import"
   ]
  },
  {
   "cell_type": "markdown",
   "id": "7ef75a3d",
   "metadata": {},
   "source": [
    "Importar bibliotecas:"
   ]
  },
  {
   "cell_type": "code",
   "execution_count": 15,
   "id": "61bdabab",
   "metadata": {},
   "outputs": [],
   "source": [
    "import pandas as pd\n",
    "import numpy as np\n",
    "import matplotlib.pyplot as plt\n",
    "import seaborn as sns\n",
    "from sklearn.feature_selection import SelectKBest, f_classif"
   ]
  },
  {
   "cell_type": "markdown",
   "id": "b0d79526",
   "metadata": {},
   "source": [
    "Carregar dados e metadados do dataset:"
   ]
  },
  {
   "cell_type": "code",
   "execution_count": 16,
   "id": "140bc761",
   "metadata": {},
   "outputs": [],
   "source": [
    "data = pd.read_csv('Dataset5/gds5393.csv', index_col=0)\n",
    "meta = pd.read_csv('Dataset5/meta-gds5393.csv', index_col = 0)"
   ]
  },
  {
   "cell_type": "markdown",
   "id": "aef62f43",
   "metadata": {},
   "source": [
    "## Exploração de Dados\n",
    "\n",
    "Começamos por ver o inicio do dataset referente aos Dados  "
   ]
  },
  {
   "cell_type": "code",
   "execution_count": 3,
   "id": "54cae598",
   "metadata": {},
   "outputs": [
    {
     "data": {
      "text/html": [
       "<div>\n",
       "<style scoped>\n",
       "    .dataframe tbody tr th:only-of-type {\n",
       "        vertical-align: middle;\n",
       "    }\n",
       "\n",
       "    .dataframe tbody tr th {\n",
       "        vertical-align: top;\n",
       "    }\n",
       "\n",
       "    .dataframe thead th {\n",
       "        text-align: right;\n",
       "    }\n",
       "</style>\n",
       "<table border=\"1\" class=\"dataframe\">\n",
       "  <thead>\n",
       "    <tr style=\"text-align: right;\">\n",
       "      <th></th>\n",
       "      <th>GSM1105438</th>\n",
       "      <th>GSM1105486</th>\n",
       "      <th>GSM1105487</th>\n",
       "      <th>GSM1105490</th>\n",
       "      <th>GSM1105491</th>\n",
       "      <th>GSM1105495</th>\n",
       "      <th>GSM1105498</th>\n",
       "      <th>GSM1105499</th>\n",
       "      <th>GSM1105506</th>\n",
       "      <th>GSM1105442</th>\n",
       "      <th>...</th>\n",
       "      <th>GSM1105454</th>\n",
       "      <th>GSM1105468</th>\n",
       "      <th>GSM1105481</th>\n",
       "      <th>GSM1105504</th>\n",
       "      <th>GSM1105517</th>\n",
       "      <th>GSM1105525</th>\n",
       "      <th>GSM1105552</th>\n",
       "      <th>GSM1105452</th>\n",
       "      <th>GSM1105453</th>\n",
       "      <th>GSM1105456</th>\n",
       "    </tr>\n",
       "  </thead>\n",
       "  <tbody>\n",
       "    <tr>\n",
       "      <th>ILMN_1343048</th>\n",
       "      <td>NaN</td>\n",
       "      <td>NaN</td>\n",
       "      <td>NaN</td>\n",
       "      <td>NaN</td>\n",
       "      <td>NaN</td>\n",
       "      <td>NaN</td>\n",
       "      <td>NaN</td>\n",
       "      <td>NaN</td>\n",
       "      <td>NaN</td>\n",
       "      <td>NaN</td>\n",
       "      <td>...</td>\n",
       "      <td>NaN</td>\n",
       "      <td>NaN</td>\n",
       "      <td>NaN</td>\n",
       "      <td>NaN</td>\n",
       "      <td>NaN</td>\n",
       "      <td>NaN</td>\n",
       "      <td>NaN</td>\n",
       "      <td>NaN</td>\n",
       "      <td>NaN</td>\n",
       "      <td>NaN</td>\n",
       "    </tr>\n",
       "    <tr>\n",
       "      <th>ILMN_1343049</th>\n",
       "      <td>NaN</td>\n",
       "      <td>NaN</td>\n",
       "      <td>NaN</td>\n",
       "      <td>NaN</td>\n",
       "      <td>NaN</td>\n",
       "      <td>NaN</td>\n",
       "      <td>NaN</td>\n",
       "      <td>NaN</td>\n",
       "      <td>NaN</td>\n",
       "      <td>NaN</td>\n",
       "      <td>...</td>\n",
       "      <td>NaN</td>\n",
       "      <td>NaN</td>\n",
       "      <td>NaN</td>\n",
       "      <td>NaN</td>\n",
       "      <td>NaN</td>\n",
       "      <td>NaN</td>\n",
       "      <td>NaN</td>\n",
       "      <td>NaN</td>\n",
       "      <td>NaN</td>\n",
       "      <td>NaN</td>\n",
       "    </tr>\n",
       "    <tr>\n",
       "      <th>ILMN_1343050</th>\n",
       "      <td>NaN</td>\n",
       "      <td>NaN</td>\n",
       "      <td>NaN</td>\n",
       "      <td>NaN</td>\n",
       "      <td>NaN</td>\n",
       "      <td>NaN</td>\n",
       "      <td>NaN</td>\n",
       "      <td>NaN</td>\n",
       "      <td>NaN</td>\n",
       "      <td>NaN</td>\n",
       "      <td>...</td>\n",
       "      <td>NaN</td>\n",
       "      <td>NaN</td>\n",
       "      <td>NaN</td>\n",
       "      <td>NaN</td>\n",
       "      <td>NaN</td>\n",
       "      <td>NaN</td>\n",
       "      <td>NaN</td>\n",
       "      <td>NaN</td>\n",
       "      <td>NaN</td>\n",
       "      <td>NaN</td>\n",
       "    </tr>\n",
       "    <tr>\n",
       "      <th>ILMN_1343052</th>\n",
       "      <td>NaN</td>\n",
       "      <td>NaN</td>\n",
       "      <td>NaN</td>\n",
       "      <td>NaN</td>\n",
       "      <td>NaN</td>\n",
       "      <td>NaN</td>\n",
       "      <td>NaN</td>\n",
       "      <td>NaN</td>\n",
       "      <td>NaN</td>\n",
       "      <td>NaN</td>\n",
       "      <td>...</td>\n",
       "      <td>NaN</td>\n",
       "      <td>NaN</td>\n",
       "      <td>NaN</td>\n",
       "      <td>NaN</td>\n",
       "      <td>NaN</td>\n",
       "      <td>NaN</td>\n",
       "      <td>NaN</td>\n",
       "      <td>NaN</td>\n",
       "      <td>NaN</td>\n",
       "      <td>NaN</td>\n",
       "    </tr>\n",
       "    <tr>\n",
       "      <th>ILMN_1343059</th>\n",
       "      <td>NaN</td>\n",
       "      <td>NaN</td>\n",
       "      <td>NaN</td>\n",
       "      <td>NaN</td>\n",
       "      <td>NaN</td>\n",
       "      <td>NaN</td>\n",
       "      <td>NaN</td>\n",
       "      <td>NaN</td>\n",
       "      <td>NaN</td>\n",
       "      <td>NaN</td>\n",
       "      <td>...</td>\n",
       "      <td>NaN</td>\n",
       "      <td>NaN</td>\n",
       "      <td>NaN</td>\n",
       "      <td>NaN</td>\n",
       "      <td>NaN</td>\n",
       "      <td>NaN</td>\n",
       "      <td>NaN</td>\n",
       "      <td>NaN</td>\n",
       "      <td>NaN</td>\n",
       "      <td>NaN</td>\n",
       "    </tr>\n",
       "  </tbody>\n",
       "</table>\n",
       "<p>5 rows × 120 columns</p>\n",
       "</div>"
      ],
      "text/plain": [
       "              GSM1105438  GSM1105486  GSM1105487  GSM1105490  GSM1105491  \\\n",
       "ILMN_1343048         NaN         NaN         NaN         NaN         NaN   \n",
       "ILMN_1343049         NaN         NaN         NaN         NaN         NaN   \n",
       "ILMN_1343050         NaN         NaN         NaN         NaN         NaN   \n",
       "ILMN_1343052         NaN         NaN         NaN         NaN         NaN   \n",
       "ILMN_1343059         NaN         NaN         NaN         NaN         NaN   \n",
       "\n",
       "              GSM1105495  GSM1105498  GSM1105499  GSM1105506  GSM1105442  ...  \\\n",
       "ILMN_1343048         NaN         NaN         NaN         NaN         NaN  ...   \n",
       "ILMN_1343049         NaN         NaN         NaN         NaN         NaN  ...   \n",
       "ILMN_1343050         NaN         NaN         NaN         NaN         NaN  ...   \n",
       "ILMN_1343052         NaN         NaN         NaN         NaN         NaN  ...   \n",
       "ILMN_1343059         NaN         NaN         NaN         NaN         NaN  ...   \n",
       "\n",
       "              GSM1105454  GSM1105468  GSM1105481  GSM1105504  GSM1105517  \\\n",
       "ILMN_1343048         NaN         NaN         NaN         NaN         NaN   \n",
       "ILMN_1343049         NaN         NaN         NaN         NaN         NaN   \n",
       "ILMN_1343050         NaN         NaN         NaN         NaN         NaN   \n",
       "ILMN_1343052         NaN         NaN         NaN         NaN         NaN   \n",
       "ILMN_1343059         NaN         NaN         NaN         NaN         NaN   \n",
       "\n",
       "              GSM1105525  GSM1105552  GSM1105452  GSM1105453  GSM1105456  \n",
       "ILMN_1343048         NaN         NaN         NaN         NaN         NaN  \n",
       "ILMN_1343049         NaN         NaN         NaN         NaN         NaN  \n",
       "ILMN_1343050         NaN         NaN         NaN         NaN         NaN  \n",
       "ILMN_1343052         NaN         NaN         NaN         NaN         NaN  \n",
       "ILMN_1343059         NaN         NaN         NaN         NaN         NaN  \n",
       "\n",
       "[5 rows x 120 columns]"
      ]
     },
     "execution_count": 3,
     "metadata": {},
     "output_type": "execute_result"
    }
   ],
   "source": [
    "data.head()"
   ]
  },
  {
   "cell_type": "markdown",
   "id": "9019d854",
   "metadata": {},
   "source": [
    "Com o passo de cima só vemos 5 linhas do dataset para ver quantas linhas são fazemos o seguinte:"
   ]
  },
  {
   "cell_type": "code",
   "execution_count": 4,
   "id": "ba3a7102",
   "metadata": {},
   "outputs": [
    {
     "data": {
      "text/plain": [
       "(48107, 120)"
      ]
     },
     "execution_count": 4,
     "metadata": {},
     "output_type": "execute_result"
    }
   ],
   "source": [
    "data.values.shape"
   ]
  },
  {
   "cell_type": "markdown",
   "id": "329c6c40",
   "metadata": {},
   "source": [
    "Para uma melhor compreensão do dataset utilizamos o describe. Esta operação é útil para ter uma visão rápida e resumida do conjunto de dados, ajuda ainda a ver as características principais sem ter que examinar todas as informações detalhadamente. \n",
    "Esta foi feita de duas formas, por genes e por amostras"
   ]
  },
  {
   "cell_type": "code",
   "execution_count": 5,
   "id": "59ecb0cc",
   "metadata": {},
   "outputs": [
    {
     "data": {
      "text/html": [
       "<div>\n",
       "<style scoped>\n",
       "    .dataframe tbody tr th:only-of-type {\n",
       "        vertical-align: middle;\n",
       "    }\n",
       "\n",
       "    .dataframe tbody tr th {\n",
       "        vertical-align: top;\n",
       "    }\n",
       "\n",
       "    .dataframe thead th {\n",
       "        text-align: right;\n",
       "    }\n",
       "</style>\n",
       "<table border=\"1\" class=\"dataframe\">\n",
       "  <thead>\n",
       "    <tr style=\"text-align: right;\">\n",
       "      <th></th>\n",
       "      <th>GSM1105438</th>\n",
       "      <th>GSM1105486</th>\n",
       "      <th>GSM1105487</th>\n",
       "      <th>GSM1105490</th>\n",
       "      <th>GSM1105491</th>\n",
       "      <th>GSM1105495</th>\n",
       "      <th>GSM1105498</th>\n",
       "      <th>GSM1105499</th>\n",
       "      <th>GSM1105506</th>\n",
       "      <th>GSM1105442</th>\n",
       "      <th>...</th>\n",
       "      <th>GSM1105454</th>\n",
       "      <th>GSM1105468</th>\n",
       "      <th>GSM1105481</th>\n",
       "      <th>GSM1105504</th>\n",
       "      <th>GSM1105517</th>\n",
       "      <th>GSM1105525</th>\n",
       "      <th>GSM1105552</th>\n",
       "      <th>GSM1105452</th>\n",
       "      <th>GSM1105453</th>\n",
       "      <th>GSM1105456</th>\n",
       "    </tr>\n",
       "  </thead>\n",
       "  <tbody>\n",
       "    <tr>\n",
       "      <th>count</th>\n",
       "      <td>47323.000000</td>\n",
       "      <td>47323.000000</td>\n",
       "      <td>47323.000000</td>\n",
       "      <td>47323.000000</td>\n",
       "      <td>47323.000000</td>\n",
       "      <td>47323.000000</td>\n",
       "      <td>47323.000000</td>\n",
       "      <td>47323.000000</td>\n",
       "      <td>47323.000000</td>\n",
       "      <td>47323.000000</td>\n",
       "      <td>...</td>\n",
       "      <td>47323.000000</td>\n",
       "      <td>47323.000000</td>\n",
       "      <td>47323.000000</td>\n",
       "      <td>47323.000000</td>\n",
       "      <td>47323.000000</td>\n",
       "      <td>47323.000000</td>\n",
       "      <td>47323.000000</td>\n",
       "      <td>47323.000000</td>\n",
       "      <td>47323.000000</td>\n",
       "      <td>47323.000000</td>\n",
       "    </tr>\n",
       "    <tr>\n",
       "      <th>mean</th>\n",
       "      <td>7.468577</td>\n",
       "      <td>7.468577</td>\n",
       "      <td>7.468577</td>\n",
       "      <td>7.468577</td>\n",
       "      <td>7.468577</td>\n",
       "      <td>7.468577</td>\n",
       "      <td>7.468577</td>\n",
       "      <td>7.468577</td>\n",
       "      <td>7.468577</td>\n",
       "      <td>7.468577</td>\n",
       "      <td>...</td>\n",
       "      <td>7.468577</td>\n",
       "      <td>7.468577</td>\n",
       "      <td>7.468577</td>\n",
       "      <td>7.468577</td>\n",
       "      <td>7.468577</td>\n",
       "      <td>7.468577</td>\n",
       "      <td>7.468577</td>\n",
       "      <td>7.468577</td>\n",
       "      <td>7.468577</td>\n",
       "      <td>7.468577</td>\n",
       "    </tr>\n",
       "    <tr>\n",
       "      <th>std</th>\n",
       "      <td>1.287915</td>\n",
       "      <td>1.287915</td>\n",
       "      <td>1.287915</td>\n",
       "      <td>1.287915</td>\n",
       "      <td>1.287915</td>\n",
       "      <td>1.287915</td>\n",
       "      <td>1.287915</td>\n",
       "      <td>1.287915</td>\n",
       "      <td>1.287915</td>\n",
       "      <td>1.287915</td>\n",
       "      <td>...</td>\n",
       "      <td>1.287915</td>\n",
       "      <td>1.287915</td>\n",
       "      <td>1.287915</td>\n",
       "      <td>1.287915</td>\n",
       "      <td>1.287915</td>\n",
       "      <td>1.287915</td>\n",
       "      <td>1.287915</td>\n",
       "      <td>1.287915</td>\n",
       "      <td>1.287915</td>\n",
       "      <td>1.287915</td>\n",
       "    </tr>\n",
       "    <tr>\n",
       "      <th>min</th>\n",
       "      <td>6.419480</td>\n",
       "      <td>6.419480</td>\n",
       "      <td>6.419480</td>\n",
       "      <td>6.419480</td>\n",
       "      <td>6.419480</td>\n",
       "      <td>6.419480</td>\n",
       "      <td>6.419480</td>\n",
       "      <td>6.419480</td>\n",
       "      <td>6.419480</td>\n",
       "      <td>6.419480</td>\n",
       "      <td>...</td>\n",
       "      <td>6.419480</td>\n",
       "      <td>6.419480</td>\n",
       "      <td>6.419480</td>\n",
       "      <td>6.419480</td>\n",
       "      <td>6.419480</td>\n",
       "      <td>6.419480</td>\n",
       "      <td>6.419480</td>\n",
       "      <td>6.419480</td>\n",
       "      <td>6.419480</td>\n",
       "      <td>6.419480</td>\n",
       "    </tr>\n",
       "    <tr>\n",
       "      <th>25%</th>\n",
       "      <td>6.815735</td>\n",
       "      <td>6.815730</td>\n",
       "      <td>6.815735</td>\n",
       "      <td>6.815735</td>\n",
       "      <td>6.815735</td>\n",
       "      <td>6.815735</td>\n",
       "      <td>6.815735</td>\n",
       "      <td>6.815735</td>\n",
       "      <td>6.815730</td>\n",
       "      <td>6.815730</td>\n",
       "      <td>...</td>\n",
       "      <td>6.815735</td>\n",
       "      <td>6.815735</td>\n",
       "      <td>6.815735</td>\n",
       "      <td>6.815735</td>\n",
       "      <td>6.815730</td>\n",
       "      <td>6.815735</td>\n",
       "      <td>6.815735</td>\n",
       "      <td>6.815735</td>\n",
       "      <td>6.815735</td>\n",
       "      <td>6.815735</td>\n",
       "    </tr>\n",
       "    <tr>\n",
       "      <th>50%</th>\n",
       "      <td>6.940240</td>\n",
       "      <td>6.940240</td>\n",
       "      <td>6.940240</td>\n",
       "      <td>6.940240</td>\n",
       "      <td>6.940240</td>\n",
       "      <td>6.940230</td>\n",
       "      <td>6.940240</td>\n",
       "      <td>6.940240</td>\n",
       "      <td>6.940240</td>\n",
       "      <td>6.940240</td>\n",
       "      <td>...</td>\n",
       "      <td>6.940240</td>\n",
       "      <td>6.940230</td>\n",
       "      <td>6.940240</td>\n",
       "      <td>6.940240</td>\n",
       "      <td>6.940240</td>\n",
       "      <td>6.940240</td>\n",
       "      <td>6.940240</td>\n",
       "      <td>6.940240</td>\n",
       "      <td>6.940240</td>\n",
       "      <td>6.940240</td>\n",
       "    </tr>\n",
       "    <tr>\n",
       "      <th>75%</th>\n",
       "      <td>7.437960</td>\n",
       "      <td>7.437960</td>\n",
       "      <td>7.437960</td>\n",
       "      <td>7.437960</td>\n",
       "      <td>7.437960</td>\n",
       "      <td>7.437960</td>\n",
       "      <td>7.437960</td>\n",
       "      <td>7.437960</td>\n",
       "      <td>7.437960</td>\n",
       "      <td>7.437960</td>\n",
       "      <td>...</td>\n",
       "      <td>7.437960</td>\n",
       "      <td>7.437960</td>\n",
       "      <td>7.437960</td>\n",
       "      <td>7.437960</td>\n",
       "      <td>7.437960</td>\n",
       "      <td>7.437960</td>\n",
       "      <td>7.437960</td>\n",
       "      <td>7.437960</td>\n",
       "      <td>7.437960</td>\n",
       "      <td>7.437960</td>\n",
       "    </tr>\n",
       "    <tr>\n",
       "      <th>max</th>\n",
       "      <td>15.017700</td>\n",
       "      <td>15.017700</td>\n",
       "      <td>15.017700</td>\n",
       "      <td>15.017700</td>\n",
       "      <td>15.017700</td>\n",
       "      <td>15.017700</td>\n",
       "      <td>15.017700</td>\n",
       "      <td>15.017700</td>\n",
       "      <td>15.017700</td>\n",
       "      <td>15.017700</td>\n",
       "      <td>...</td>\n",
       "      <td>15.017700</td>\n",
       "      <td>15.017700</td>\n",
       "      <td>15.017700</td>\n",
       "      <td>15.017700</td>\n",
       "      <td>15.017700</td>\n",
       "      <td>15.017700</td>\n",
       "      <td>15.017700</td>\n",
       "      <td>15.017700</td>\n",
       "      <td>15.017700</td>\n",
       "      <td>15.017700</td>\n",
       "    </tr>\n",
       "  </tbody>\n",
       "</table>\n",
       "<p>8 rows × 120 columns</p>\n",
       "</div>"
      ],
      "text/plain": [
       "         GSM1105438    GSM1105486    GSM1105487    GSM1105490    GSM1105491  \\\n",
       "count  47323.000000  47323.000000  47323.000000  47323.000000  47323.000000   \n",
       "mean       7.468577      7.468577      7.468577      7.468577      7.468577   \n",
       "std        1.287915      1.287915      1.287915      1.287915      1.287915   \n",
       "min        6.419480      6.419480      6.419480      6.419480      6.419480   \n",
       "25%        6.815735      6.815730      6.815735      6.815735      6.815735   \n",
       "50%        6.940240      6.940240      6.940240      6.940240      6.940240   \n",
       "75%        7.437960      7.437960      7.437960      7.437960      7.437960   \n",
       "max       15.017700     15.017700     15.017700     15.017700     15.017700   \n",
       "\n",
       "         GSM1105495    GSM1105498    GSM1105499    GSM1105506    GSM1105442  \\\n",
       "count  47323.000000  47323.000000  47323.000000  47323.000000  47323.000000   \n",
       "mean       7.468577      7.468577      7.468577      7.468577      7.468577   \n",
       "std        1.287915      1.287915      1.287915      1.287915      1.287915   \n",
       "min        6.419480      6.419480      6.419480      6.419480      6.419480   \n",
       "25%        6.815735      6.815735      6.815735      6.815730      6.815730   \n",
       "50%        6.940230      6.940240      6.940240      6.940240      6.940240   \n",
       "75%        7.437960      7.437960      7.437960      7.437960      7.437960   \n",
       "max       15.017700     15.017700     15.017700     15.017700     15.017700   \n",
       "\n",
       "       ...    GSM1105454    GSM1105468    GSM1105481    GSM1105504  \\\n",
       "count  ...  47323.000000  47323.000000  47323.000000  47323.000000   \n",
       "mean   ...      7.468577      7.468577      7.468577      7.468577   \n",
       "std    ...      1.287915      1.287915      1.287915      1.287915   \n",
       "min    ...      6.419480      6.419480      6.419480      6.419480   \n",
       "25%    ...      6.815735      6.815735      6.815735      6.815735   \n",
       "50%    ...      6.940240      6.940230      6.940240      6.940240   \n",
       "75%    ...      7.437960      7.437960      7.437960      7.437960   \n",
       "max    ...     15.017700     15.017700     15.017700     15.017700   \n",
       "\n",
       "         GSM1105517    GSM1105525    GSM1105552    GSM1105452    GSM1105453  \\\n",
       "count  47323.000000  47323.000000  47323.000000  47323.000000  47323.000000   \n",
       "mean       7.468577      7.468577      7.468577      7.468577      7.468577   \n",
       "std        1.287915      1.287915      1.287915      1.287915      1.287915   \n",
       "min        6.419480      6.419480      6.419480      6.419480      6.419480   \n",
       "25%        6.815730      6.815735      6.815735      6.815735      6.815735   \n",
       "50%        6.940240      6.940240      6.940240      6.940240      6.940240   \n",
       "75%        7.437960      7.437960      7.437960      7.437960      7.437960   \n",
       "max       15.017700     15.017700     15.017700     15.017700     15.017700   \n",
       "\n",
       "         GSM1105456  \n",
       "count  47323.000000  \n",
       "mean       7.468577  \n",
       "std        1.287915  \n",
       "min        6.419480  \n",
       "25%        6.815735  \n",
       "50%        6.940240  \n",
       "75%        7.437960  \n",
       "max       15.017700  \n",
       "\n",
       "[8 rows x 120 columns]"
      ]
     },
     "execution_count": 5,
     "metadata": {},
     "output_type": "execute_result"
    }
   ],
   "source": [
    "data.describe() ## by samples "
   ]
  },
  {
   "cell_type": "markdown",
   "id": "93d60943",
   "metadata": {},
   "source": [
    "Daqui vemos que existem vários dados nulos e que terão de ser tratados. Existem 48107 colunas de genes mas o count da tabela de baixo indica que existem apenas 47323"
   ]
  },
  {
   "cell_type": "markdown",
   "id": "9bad8b55",
   "metadata": {},
   "source": [
    "De seguida avaliamos o tipo de dados presentes no data set"
   ]
  },
  {
   "cell_type": "code",
   "execution_count": 6,
   "id": "0e1815c0",
   "metadata": {},
   "outputs": [
    {
     "data": {
      "text/plain": [
       "GSM1105438    float64\n",
       "GSM1105486    float64\n",
       "GSM1105487    float64\n",
       "GSM1105490    float64\n",
       "GSM1105491    float64\n",
       "               ...   \n",
       "GSM1105525    float64\n",
       "GSM1105552    float64\n",
       "GSM1105452    float64\n",
       "GSM1105453    float64\n",
       "GSM1105456    float64\n",
       "Length: 120, dtype: object"
      ]
     },
     "execution_count": 6,
     "metadata": {},
     "output_type": "execute_result"
    }
   ],
   "source": [
    "data.dtypes"
   ]
  },
  {
   "cell_type": "markdown",
   "id": "f4ec6329",
   "metadata": {},
   "source": [
    " Os dados referentes as amostras são do tipo float64 isso indica que os dados são do tipo de dado \"float\" (ponto flutuante) com uma precisão de 64 bits."
   ]
  },
  {
   "cell_type": "markdown",
   "id": "5bfddbfa",
   "metadata": {},
   "source": [
    "## Exploração de Metadados\n",
    "\n",
    "Da mesma forma que a exploração foi feita para os dados também é importante realizar esta analise no dataset referente aos metadados"
   ]
  },
  {
   "cell_type": "code",
   "execution_count": 7,
   "id": "92f3fa0a",
   "metadata": {},
   "outputs": [
    {
     "data": {
      "text/html": [
       "<div>\n",
       "<style scoped>\n",
       "    .dataframe tbody tr th:only-of-type {\n",
       "        vertical-align: middle;\n",
       "    }\n",
       "\n",
       "    .dataframe tbody tr th {\n",
       "        vertical-align: top;\n",
       "    }\n",
       "\n",
       "    .dataframe thead th {\n",
       "        text-align: right;\n",
       "    }\n",
       "</style>\n",
       "<table border=\"1\" class=\"dataframe\">\n",
       "  <thead>\n",
       "    <tr style=\"text-align: right;\">\n",
       "      <th></th>\n",
       "      <th>sample</th>\n",
       "      <th>agent</th>\n",
       "      <th>other</th>\n",
       "      <th>time</th>\n",
       "      <th>individual</th>\n",
       "      <th>description</th>\n",
       "    </tr>\n",
       "  </thead>\n",
       "  <tbody>\n",
       "    <tr>\n",
       "      <th>GSM1105438</th>\n",
       "      <td>GSM1105438</td>\n",
       "      <td>control</td>\n",
       "      <td>non-responder</td>\n",
       "      <td>baseline</td>\n",
       "      <td>OPT_1</td>\n",
       "      <td>Value for GSM1105438: OPT_1-baseline; src: Per...</td>\n",
       "    </tr>\n",
       "    <tr>\n",
       "      <th>GSM1105486</th>\n",
       "      <td>GSM1105486</td>\n",
       "      <td>control</td>\n",
       "      <td>non-responder</td>\n",
       "      <td>baseline</td>\n",
       "      <td>OPT_11</td>\n",
       "      <td>Value for GSM1105486: OPT_11-baseline; src: Pe...</td>\n",
       "    </tr>\n",
       "    <tr>\n",
       "      <th>GSM1105487</th>\n",
       "      <td>GSM1105487</td>\n",
       "      <td>control</td>\n",
       "      <td>non-responder</td>\n",
       "      <td>baseline</td>\n",
       "      <td>OPT_12</td>\n",
       "      <td>Value for GSM1105487: OPT_12-baseline; src: Pe...</td>\n",
       "    </tr>\n",
       "    <tr>\n",
       "      <th>GSM1105490</th>\n",
       "      <td>GSM1105490</td>\n",
       "      <td>control</td>\n",
       "      <td>non-responder</td>\n",
       "      <td>baseline</td>\n",
       "      <td>OPT_13</td>\n",
       "      <td>Value for GSM1105490: OPT_13-baseline; src: Pe...</td>\n",
       "    </tr>\n",
       "    <tr>\n",
       "      <th>GSM1105491</th>\n",
       "      <td>GSM1105491</td>\n",
       "      <td>control</td>\n",
       "      <td>non-responder</td>\n",
       "      <td>baseline</td>\n",
       "      <td>OPT_14</td>\n",
       "      <td>Value for GSM1105491: OPT_14-baseline; src: Pe...</td>\n",
       "    </tr>\n",
       "  </tbody>\n",
       "</table>\n",
       "</div>"
      ],
      "text/plain": [
       "                sample    agent          other      time individual  \\\n",
       "GSM1105438  GSM1105438  control  non-responder  baseline      OPT_1   \n",
       "GSM1105486  GSM1105486  control  non-responder  baseline     OPT_11   \n",
       "GSM1105487  GSM1105487  control  non-responder  baseline     OPT_12   \n",
       "GSM1105490  GSM1105490  control  non-responder  baseline     OPT_13   \n",
       "GSM1105491  GSM1105491  control  non-responder  baseline     OPT_14   \n",
       "\n",
       "                                                  description  \n",
       "GSM1105438  Value for GSM1105438: OPT_1-baseline; src: Per...  \n",
       "GSM1105486  Value for GSM1105486: OPT_11-baseline; src: Pe...  \n",
       "GSM1105487  Value for GSM1105487: OPT_12-baseline; src: Pe...  \n",
       "GSM1105490  Value for GSM1105490: OPT_13-baseline; src: Pe...  \n",
       "GSM1105491  Value for GSM1105491: OPT_14-baseline; src: Pe...  "
      ]
     },
     "execution_count": 7,
     "metadata": {},
     "output_type": "execute_result"
    }
   ],
   "source": [
    "meta.head()"
   ]
  },
  {
   "cell_type": "code",
   "execution_count": 8,
   "id": "8316fb7b",
   "metadata": {},
   "outputs": [
    {
     "data": {
      "text/plain": [
       "(120, 6)"
      ]
     },
     "execution_count": 8,
     "metadata": {},
     "output_type": "execute_result"
    }
   ],
   "source": [
    "meta.values.shape"
   ]
  },
  {
   "cell_type": "markdown",
   "id": "59f04227",
   "metadata": {},
   "source": [
    "120 linhas (amostras) e 6 colunas (variáveis)"
   ]
  },
  {
   "cell_type": "code",
   "execution_count": 9,
   "id": "12ce1d85",
   "metadata": {},
   "outputs": [
    {
     "data": {
      "text/html": [
       "<div>\n",
       "<style scoped>\n",
       "    .dataframe tbody tr th:only-of-type {\n",
       "        vertical-align: middle;\n",
       "    }\n",
       "\n",
       "    .dataframe tbody tr th {\n",
       "        vertical-align: top;\n",
       "    }\n",
       "\n",
       "    .dataframe thead th {\n",
       "        text-align: right;\n",
       "    }\n",
       "</style>\n",
       "<table border=\"1\" class=\"dataframe\">\n",
       "  <thead>\n",
       "    <tr style=\"text-align: right;\">\n",
       "      <th></th>\n",
       "      <th>sample</th>\n",
       "      <th>agent</th>\n",
       "      <th>other</th>\n",
       "      <th>time</th>\n",
       "      <th>individual</th>\n",
       "      <th>description</th>\n",
       "    </tr>\n",
       "  </thead>\n",
       "  <tbody>\n",
       "    <tr>\n",
       "      <th>count</th>\n",
       "      <td>120</td>\n",
       "      <td>120</td>\n",
       "      <td>120</td>\n",
       "      <td>120</td>\n",
       "      <td>120</td>\n",
       "      <td>120</td>\n",
       "    </tr>\n",
       "    <tr>\n",
       "      <th>unique</th>\n",
       "      <td>120</td>\n",
       "      <td>2</td>\n",
       "      <td>2</td>\n",
       "      <td>2</td>\n",
       "      <td>60</td>\n",
       "      <td>120</td>\n",
       "    </tr>\n",
       "    <tr>\n",
       "      <th>top</th>\n",
       "      <td>GSM1105502</td>\n",
       "      <td>control</td>\n",
       "      <td>non-responder</td>\n",
       "      <td>baseline</td>\n",
       "      <td>OPT_1</td>\n",
       "      <td>Value for GSM1105502: Li+OPT_16-baseline; src:...</td>\n",
       "    </tr>\n",
       "    <tr>\n",
       "      <th>freq</th>\n",
       "      <td>1</td>\n",
       "      <td>64</td>\n",
       "      <td>94</td>\n",
       "      <td>60</td>\n",
       "      <td>2</td>\n",
       "      <td>1</td>\n",
       "    </tr>\n",
       "  </tbody>\n",
       "</table>\n",
       "</div>"
      ],
      "text/plain": [
       "            sample    agent          other      time individual  \\\n",
       "count          120      120            120       120        120   \n",
       "unique         120        2              2         2         60   \n",
       "top     GSM1105502  control  non-responder  baseline      OPT_1   \n",
       "freq             1       64             94        60          2   \n",
       "\n",
       "                                              description  \n",
       "count                                                 120  \n",
       "unique                                                120  \n",
       "top     Value for GSM1105502: Li+OPT_16-baseline; src:...  \n",
       "freq                                                    1  "
      ]
     },
     "execution_count": 9,
     "metadata": {},
     "output_type": "execute_result"
    }
   ],
   "source": [
    "meta.describe()"
   ]
  },
  {
   "cell_type": "markdown",
   "id": "c8af1df4",
   "metadata": {},
   "source": [
    "Analisando esta tabela confirmamos que contém 120 amostras distintas (\"sample\")\n",
    "\n",
    "A variável \"agent\" é representado por 2 valores distintos, o mais comum, com 64 amostras é o \"control\" \n",
    "\n",
    "Na variável responsavel por indicar se o individuo respondeu ou não ao tratamento, \"other\", também contém dois valores distintos. O mais comum é \"non-responder\" presente emc 94 amostras.\n",
    "\n",
    "A variável correspondente ao tempo contém também dois valores, O valor \"baseline\" é o mais comum, ou seja a amostra retirada logo no inicio do tratamento \n",
    "\n",
    "No identificador unico de cada paciente, \"individual\", temos 60 valores, com uma frequência de 2, o que nos diz que cada paciente contem 2 amostras no conjunto de dados.\n",
    "\n",
    "A variável que nos indica comentários adicionados à amostra, \"description\", tem 120 valores."
   ]
  },
  {
   "cell_type": "code",
   "execution_count": 10,
   "id": "b15efb03",
   "metadata": {},
   "outputs": [
    {
     "data": {
      "text/plain": [
       "sample         object\n",
       "agent          object\n",
       "other          object\n",
       "time           object\n",
       "individual     object\n",
       "description    object\n",
       "dtype: object"
      ]
     },
     "execution_count": 10,
     "metadata": {},
     "output_type": "execute_result"
    }
   ],
   "source": [
    "meta.dtypes"
   ]
  },
  {
   "cell_type": "markdown",
   "id": "638aa4d9",
   "metadata": {},
   "source": [
    "Os metadados são do tipo \"object\" o que nos indica que as colunas contêm informações de texto ou uma combinação de diferentes tipos de dados."
   ]
  },
  {
   "cell_type": "markdown",
   "id": "a33ea605",
   "metadata": {},
   "source": [
    "### Representação Gráfica de Metadados"
   ]
  },
  {
   "cell_type": "markdown",
   "id": "566c58ce",
   "metadata": {},
   "source": [
    "Representação de proporção de pacientes classificados como 'responders' e 'non-responders':"
   ]
  },
  {
   "cell_type": "code",
   "execution_count": 11,
   "id": "0241677c",
   "metadata": {},
   "outputs": [
    {
     "data": {
      "text/plain": [
       "other\n",
       "non-responder    94\n",
       "responder        26\n",
       "dtype: int64"
      ]
     },
     "execution_count": 11,
     "metadata": {},
     "output_type": "execute_result"
    }
   ],
   "source": [
    "meta.groupby(\"other\").size()"
   ]
  },
  {
   "cell_type": "code",
   "execution_count": 12,
   "id": "475a3b41",
   "metadata": {},
   "outputs": [
    {
     "data": {
      "text/plain": [
       "<Axes: >"
      ]
     },
     "execution_count": 12,
     "metadata": {},
     "output_type": "execute_result"
    },
    {
     "data": {
      "image/png": "[encoded data removed]",
      "text/plain": [
       "<Figure size 640x480 with 1 Axes>"
      ]
     },
     "metadata": {},
     "output_type": "display_data"
    }
   ],
   "source": [
    "meta.groupby(\"other\").size().plot.pie()"
   ]
  },
  {
   "cell_type": "markdown",
   "id": "ce9178ab",
   "metadata": {},
   "source": [
    "Representação de proporção de pacientes que receberam tratamento de controlo e tratamento com lítio:"
   ]
  },
  {
   "cell_type": "code",
   "execution_count": 88,
   "id": "0cecf8a3",
   "metadata": {},
   "outputs": [
    {
     "data": {
      "text/plain": [
       "<Axes: >"
      ]
     },
     "execution_count": 88,
     "metadata": {},
     "output_type": "execute_result"
    },
    {
     "data": {
      "image/png": "[encoded data removed]",
      "text/plain": [
       "<Figure size 640x480 with 1 Axes>"
      ]
     },
     "metadata": {},
     "output_type": "display_data"
    }
   ],
   "source": [
    "meta.groupby(\"agent\").size().plot.pie()"
   ]
  },
  {
   "cell_type": "markdown",
   "id": "22e3db66",
   "metadata": {},
   "source": [
    "### Relação entre Tratamento e Reposta\n"
   ]
  },
  {
   "cell_type": "markdown",
   "id": "8547eb0e",
   "metadata": {},
   "source": [
    "Para relacionar variáveis presentes nos metadados vamos agrupar por 'agent' e contar o numero das respostas permitidas no 'other'em cada grupo, controlo e com litio"
   ]
  },
  {
   "cell_type": "code",
   "execution_count": 13,
   "id": "cee032e2",
   "metadata": {},
   "outputs": [
    {
     "data": {
      "text/html": [
       "<div>\n",
       "<style scoped>\n",
       "    .dataframe tbody tr th:only-of-type {\n",
       "        vertical-align: middle;\n",
       "    }\n",
       "\n",
       "    .dataframe tbody tr th {\n",
       "        vertical-align: top;\n",
       "    }\n",
       "\n",
       "    .dataframe thead th {\n",
       "        text-align: right;\n",
       "    }\n",
       "</style>\n",
       "<table border=\"1\" class=\"dataframe\">\n",
       "  <thead>\n",
       "    <tr style=\"text-align: right;\">\n",
       "      <th>other</th>\n",
       "      <th>non-responder</th>\n",
       "      <th>responder</th>\n",
       "    </tr>\n",
       "    <tr>\n",
       "      <th>agent</th>\n",
       "      <th></th>\n",
       "      <th></th>\n",
       "    </tr>\n",
       "  </thead>\n",
       "  <tbody>\n",
       "    <tr>\n",
       "      <th>control</th>\n",
       "      <td>56</td>\n",
       "      <td>8</td>\n",
       "    </tr>\n",
       "    <tr>\n",
       "      <th>lithium</th>\n",
       "      <td>38</td>\n",
       "      <td>18</td>\n",
       "    </tr>\n",
       "  </tbody>\n",
       "</table>\n",
       "</div>"
      ],
      "text/plain": [
       "other    non-responder  responder\n",
       "agent                            \n",
       "control             56          8\n",
       "lithium             38         18"
      ]
     },
     "execution_count": 13,
     "metadata": {},
     "output_type": "execute_result"
    }
   ],
   "source": [
    "# Agrupar por 'agent' e contar o número de respondeu e não respondeu em cada grupo\n",
    "group_by_agent = meta.groupby(['agent', 'other']).size().unstack(fill_value=0)\n",
    "group_by_agent"
   ]
  },
  {
   "cell_type": "code",
   "execution_count": 14,
   "id": "28b50c19",
   "metadata": {},
   "outputs": [
    {
     "data": {
      "text/plain": [
       "<matplotlib.legend.Legend at 0x7fa3e1628d00>"
      ]
     },
     "execution_count": 14,
     "metadata": {},
     "output_type": "execute_result"
    },
    {
     "data": {
      "image/png": "[encoded data removed]",
      "text/plain": [
       "<Figure size 640x480 with 1 Axes>"
      ]
     },
     "metadata": {},
     "output_type": "display_data"
    }
   ],
   "source": [
    "# Visualização gráfica\n",
    "\n",
    "group_by_agent.plot.bar()\n",
    "\n",
    "plt.title('Relação entre Tratamento e Classificação de Resposta')\n",
    "plt.xlabel('Agent')\n",
    "plt.ylabel('Number of Samples')\n",
    "plt.legend(title='Other', loc='upper right')"
   ]
  },
  {
   "cell_type": "markdown",
   "id": "1acdcd43",
   "metadata": {},
   "source": [
    "Com isto, entende-se que o nosso dataset é composto por um número de amostras de pacientes a receber tratamento de conttrolo superior ao de pacientes a receber tratamento com lítio, e, ainda, que a proporção de pacientes que exibiram resposta biológica ao tratamento, ou seja, exibiram variação de expressão genética, sendo então classificados como 'responders' é bastante inferior aos que não exibiram resposta ('non-responders'). Pode-se inferir que o tratamento com lítio induziu uma resposta em cerca de metade dos pacientes, mas destaca-se também a existência de alguns pacientes a exibir resposta quando receberam somente o tratamento de controlo."
   ]
  },
  {
   "cell_type": "markdown",
   "id": "c3d2e232",
   "metadata": {},
   "source": [
    "## Standardizing dos Dados "
   ]
  },
  {
   "cell_type": "markdown",
   "id": "2254a239",
   "metadata": {},
   "source": [
    "### Tratamento dos Dados Nulos\n",
    "Como visto na exploração de dados feita existem dados nulos, isto é uma problemática que tem de ser resolvida para que seja possivel continuar o processo desejado"
   ]
  },
  {
   "cell_type": "code",
   "execution_count": 17,
   "id": "a78aa503",
   "metadata": {},
   "outputs": [
    {
     "data": {
      "text/plain": [
       "94080"
      ]
     },
     "execution_count": 17,
     "metadata": {},
     "output_type": "execute_result"
    }
   ],
   "source": [
    "data.isnull().sum().sum()"
   ]
  },
  {
   "cell_type": "code",
   "execution_count": 18,
   "id": "e4fa51aa",
   "metadata": {},
   "outputs": [
    {
     "data": {
      "text/plain": [
       "0"
      ]
     },
     "execution_count": 18,
     "metadata": {},
     "output_type": "execute_result"
    }
   ],
   "source": [
    "meta.isnull().sum().sum()"
   ]
  },
  {
   "cell_type": "markdown",
   "id": "395443c5",
   "metadata": {},
   "source": [
    "Confirma-se a existencia de dados nulos no conjunto de dados referentes aos dados "
   ]
  },
  {
   "cell_type": "code",
   "execution_count": 19,
   "id": "d554298c",
   "metadata": {},
   "outputs": [
    {
     "data": {
      "text/plain": [
       "GSM1105438    784\n",
       "GSM1105486    784\n",
       "GSM1105487    784\n",
       "GSM1105490    784\n",
       "GSM1105491    784\n",
       "             ... \n",
       "GSM1105525    784\n",
       "GSM1105552    784\n",
       "GSM1105452    784\n",
       "GSM1105453    784\n",
       "GSM1105456    784\n",
       "Length: 120, dtype: int64"
      ]
     },
     "execution_count": 19,
     "metadata": {},
     "output_type": "execute_result"
    }
   ],
   "source": [
    "data.isnull().sum()"
   ]
  },
  {
   "cell_type": "markdown",
   "id": "3186c5bb",
   "metadata": {},
   "source": [
    "Eliminamos as linhas que continham pelo menos um valor nulo "
   ]
  },
  {
   "cell_type": "code",
   "execution_count": 20,
   "id": "b4301b14",
   "metadata": {},
   "outputs": [],
   "source": [
    "data = data.dropna()"
   ]
  },
  {
   "cell_type": "code",
   "execution_count": 21,
   "id": "41388ef4",
   "metadata": {},
   "outputs": [
    {
     "data": {
      "text/plain": [
       "(47323, 120)"
      ]
     },
     "execution_count": 21,
     "metadata": {},
     "output_type": "execute_result"
    }
   ],
   "source": [
    "data.values.shape"
   ]
  },
  {
   "cell_type": "markdown",
   "id": "e194de85",
   "metadata": {},
   "source": [
    "Confirma-se que os valores nulos foram eliminados "
   ]
  },
  {
   "cell_type": "markdown",
   "id": "abe711c3",
   "metadata": {},
   "source": [
    "### Transposição dos Dados"
   ]
  },
  {
   "cell_type": "markdown",
   "id": "4ef7f502",
   "metadata": {},
   "source": [
    "A disposição atual do conjunto de dados posiciona as amostras em colunas e os genes em linhas. Porém como os genes representam as características em análise, eles devem ser posicionados nas colunas. Portanto, o conjunto de dados precisa ser transposto."
   ]
  },
  {
   "cell_type": "code",
   "execution_count": 22,
   "id": "29d73ac1",
   "metadata": {},
   "outputs": [
    {
     "data": {
      "text/html": [
       "<div>\n",
       "<style scoped>\n",
       "    .dataframe tbody tr th:only-of-type {\n",
       "        vertical-align: middle;\n",
       "    }\n",
       "\n",
       "    .dataframe tbody tr th {\n",
       "        vertical-align: top;\n",
       "    }\n",
       "\n",
       "    .dataframe thead th {\n",
       "        text-align: right;\n",
       "    }\n",
       "</style>\n",
       "<table border=\"1\" class=\"dataframe\">\n",
       "  <thead>\n",
       "    <tr style=\"text-align: right;\">\n",
       "      <th></th>\n",
       "      <th>ILMN_1343291</th>\n",
       "      <th>ILMN_1343295</th>\n",
       "      <th>ILMN_1651199</th>\n",
       "      <th>ILMN_1651209</th>\n",
       "      <th>ILMN_1651210</th>\n",
       "      <th>ILMN_1651221</th>\n",
       "      <th>ILMN_1651228</th>\n",
       "      <th>ILMN_1651229</th>\n",
       "      <th>ILMN_1651230</th>\n",
       "      <th>ILMN_1651232</th>\n",
       "      <th>...</th>\n",
       "      <th>ILMN_3311145</th>\n",
       "      <th>ILMN_3311150</th>\n",
       "      <th>ILMN_3311155</th>\n",
       "      <th>ILMN_3311160</th>\n",
       "      <th>ILMN_3311165</th>\n",
       "      <th>ILMN_3311170</th>\n",
       "      <th>ILMN_3311175</th>\n",
       "      <th>ILMN_3311180</th>\n",
       "      <th>ILMN_3311185</th>\n",
       "      <th>ILMN_3311190</th>\n",
       "    </tr>\n",
       "  </thead>\n",
       "  <tbody>\n",
       "    <tr>\n",
       "      <th>GSM1105438</th>\n",
       "      <td>14.8983</td>\n",
       "      <td>12.1027</td>\n",
       "      <td>6.90845</td>\n",
       "      <td>6.97636</td>\n",
       "      <td>6.89734</td>\n",
       "      <td>7.01968</td>\n",
       "      <td>11.9813</td>\n",
       "      <td>7.94897</td>\n",
       "      <td>6.88075</td>\n",
       "      <td>7.05958</td>\n",
       "      <td>...</td>\n",
       "      <td>6.89246</td>\n",
       "      <td>6.78430</td>\n",
       "      <td>6.92158</td>\n",
       "      <td>6.92631</td>\n",
       "      <td>7.12904</td>\n",
       "      <td>6.77274</td>\n",
       "      <td>6.85770</td>\n",
       "      <td>7.08213</td>\n",
       "      <td>6.85267</td>\n",
       "      <td>7.81762</td>\n",
       "    </tr>\n",
       "    <tr>\n",
       "      <th>GSM1105486</th>\n",
       "      <td>14.7170</td>\n",
       "      <td>12.4403</td>\n",
       "      <td>6.63058</td>\n",
       "      <td>7.16577</td>\n",
       "      <td>6.84158</td>\n",
       "      <td>6.87300</td>\n",
       "      <td>12.9543</td>\n",
       "      <td>7.86514</td>\n",
       "      <td>6.87122</td>\n",
       "      <td>6.87390</td>\n",
       "      <td>...</td>\n",
       "      <td>6.92284</td>\n",
       "      <td>6.82762</td>\n",
       "      <td>7.09969</td>\n",
       "      <td>6.84452</td>\n",
       "      <td>6.92715</td>\n",
       "      <td>6.78293</td>\n",
       "      <td>6.81344</td>\n",
       "      <td>6.85598</td>\n",
       "      <td>6.74649</td>\n",
       "      <td>7.55871</td>\n",
       "    </tr>\n",
       "    <tr>\n",
       "      <th>GSM1105487</th>\n",
       "      <td>14.8411</td>\n",
       "      <td>12.4878</td>\n",
       "      <td>6.74203</td>\n",
       "      <td>7.23598</td>\n",
       "      <td>6.83540</td>\n",
       "      <td>7.13678</td>\n",
       "      <td>12.9664</td>\n",
       "      <td>8.50659</td>\n",
       "      <td>6.92326</td>\n",
       "      <td>6.91722</td>\n",
       "      <td>...</td>\n",
       "      <td>6.85514</td>\n",
       "      <td>6.67967</td>\n",
       "      <td>6.91126</td>\n",
       "      <td>6.79946</td>\n",
       "      <td>7.20899</td>\n",
       "      <td>6.73403</td>\n",
       "      <td>6.69688</td>\n",
       "      <td>6.96195</td>\n",
       "      <td>6.82538</td>\n",
       "      <td>7.69129</td>\n",
       "    </tr>\n",
       "    <tr>\n",
       "      <th>GSM1105490</th>\n",
       "      <td>14.9191</td>\n",
       "      <td>11.6591</td>\n",
       "      <td>6.84711</td>\n",
       "      <td>7.20855</td>\n",
       "      <td>6.86877</td>\n",
       "      <td>6.87585</td>\n",
       "      <td>13.4400</td>\n",
       "      <td>7.85840</td>\n",
       "      <td>6.79209</td>\n",
       "      <td>6.96697</td>\n",
       "      <td>...</td>\n",
       "      <td>6.86023</td>\n",
       "      <td>6.86298</td>\n",
       "      <td>7.09422</td>\n",
       "      <td>6.83745</td>\n",
       "      <td>7.18966</td>\n",
       "      <td>6.85946</td>\n",
       "      <td>6.69968</td>\n",
       "      <td>6.99962</td>\n",
       "      <td>6.96305</td>\n",
       "      <td>7.32495</td>\n",
       "    </tr>\n",
       "    <tr>\n",
       "      <th>GSM1105491</th>\n",
       "      <td>14.7371</td>\n",
       "      <td>11.9833</td>\n",
       "      <td>6.83116</td>\n",
       "      <td>7.17747</td>\n",
       "      <td>6.84190</td>\n",
       "      <td>6.91533</td>\n",
       "      <td>12.9282</td>\n",
       "      <td>7.71051</td>\n",
       "      <td>6.94781</td>\n",
       "      <td>7.10965</td>\n",
       "      <td>...</td>\n",
       "      <td>6.92191</td>\n",
       "      <td>6.79342</td>\n",
       "      <td>6.89431</td>\n",
       "      <td>6.91218</td>\n",
       "      <td>7.23281</td>\n",
       "      <td>6.87367</td>\n",
       "      <td>6.68000</td>\n",
       "      <td>6.88795</td>\n",
       "      <td>6.87131</td>\n",
       "      <td>7.90085</td>\n",
       "    </tr>\n",
       "  </tbody>\n",
       "</table>\n",
       "<p>5 rows × 47323 columns</p>\n",
       "</div>"
      ],
      "text/plain": [
       "            ILMN_1343291  ILMN_1343295  ILMN_1651199  ILMN_1651209  \\\n",
       "GSM1105438       14.8983       12.1027       6.90845       6.97636   \n",
       "GSM1105486       14.7170       12.4403       6.63058       7.16577   \n",
       "GSM1105487       14.8411       12.4878       6.74203       7.23598   \n",
       "GSM1105490       14.9191       11.6591       6.84711       7.20855   \n",
       "GSM1105491       14.7371       11.9833       6.83116       7.17747   \n",
       "\n",
       "            ILMN_1651210  ILMN_1651221  ILMN_1651228  ILMN_1651229  \\\n",
       "GSM1105438       6.89734       7.01968       11.9813       7.94897   \n",
       "GSM1105486       6.84158       6.87300       12.9543       7.86514   \n",
       "GSM1105487       6.83540       7.13678       12.9664       8.50659   \n",
       "GSM1105490       6.86877       6.87585       13.4400       7.85840   \n",
       "GSM1105491       6.84190       6.91533       12.9282       7.71051   \n",
       "\n",
       "            ILMN_1651230  ILMN_1651232  ...  ILMN_3311145  ILMN_3311150  \\\n",
       "GSM1105438       6.88075       7.05958  ...       6.89246       6.78430   \n",
       "GSM1105486       6.87122       6.87390  ...       6.92284       6.82762   \n",
       "GSM1105487       6.92326       6.91722  ...       6.85514       6.67967   \n",
       "GSM1105490       6.79209       6.96697  ...       6.86023       6.86298   \n",
       "GSM1105491       6.94781       7.10965  ...       6.92191       6.79342   \n",
       "\n",
       "            ILMN_3311155  ILMN_3311160  ILMN_3311165  ILMN_3311170  \\\n",
       "GSM1105438       6.92158       6.92631       7.12904       6.77274   \n",
       "GSM1105486       7.09969       6.84452       6.92715       6.78293   \n",
       "GSM1105487       6.91126       6.79946       7.20899       6.73403   \n",
       "GSM1105490       7.09422       6.83745       7.18966       6.85946   \n",
       "GSM1105491       6.89431       6.91218       7.23281       6.87367   \n",
       "\n",
       "            ILMN_3311175  ILMN_3311180  ILMN_3311185  ILMN_3311190  \n",
       "GSM1105438       6.85770       7.08213       6.85267       7.81762  \n",
       "GSM1105486       6.81344       6.85598       6.74649       7.55871  \n",
       "GSM1105487       6.69688       6.96195       6.82538       7.69129  \n",
       "GSM1105490       6.69968       6.99962       6.96305       7.32495  \n",
       "GSM1105491       6.68000       6.88795       6.87131       7.90085  \n",
       "\n",
       "[5 rows x 47323 columns]"
      ]
     },
     "execution_count": 22,
     "metadata": {},
     "output_type": "execute_result"
    }
   ],
   "source": [
    "data = data.transpose()\n",
    "data.head()"
   ]
  },
  {
   "cell_type": "markdown",
   "id": "2d1be7fa",
   "metadata": {},
   "source": [
    "## Análise de Genes de Maior Relevância"
   ]
  },
  {
   "cell_type": "markdown",
   "id": "fe2c15b6",
   "metadata": {},
   "source": [
    "### Testes Estatísticos Univariados \n",
    "\n",
    "De maneira a identificar os 10 genes principais, ou seja, os genes que apresentam maior relevência para os dados, utilizam-se métodos de SelectKBest para efetuar avaliaçoes de cada recurso (neste caso, de cada coluna correspondente a um gene) individualmente, com base numa métrica escolhida, selecionando, por fim, os 10 recursos com melhor pontuação."
   ]
  },
  {
   "cell_type": "code",
   "execution_count": 23,
   "id": "6505fdc6",
   "metadata": {},
   "outputs": [
    {
     "name": "stdout",
     "output_type": "stream",
     "text": [
      "(120, 10)\n"
     ]
    },
    {
     "data": {
      "text/html": [
       "<div>\n",
       "<style scoped>\n",
       "    .dataframe tbody tr th:only-of-type {\n",
       "        vertical-align: middle;\n",
       "    }\n",
       "\n",
       "    .dataframe tbody tr th {\n",
       "        vertical-align: top;\n",
       "    }\n",
       "\n",
       "    .dataframe thead th {\n",
       "        text-align: right;\n",
       "    }\n",
       "</style>\n",
       "<table border=\"1\" class=\"dataframe\">\n",
       "  <thead>\n",
       "    <tr style=\"text-align: right;\">\n",
       "      <th></th>\n",
       "      <th>ILMN_1669208</th>\n",
       "      <th>ILMN_1680435</th>\n",
       "      <th>ILMN_1722603</th>\n",
       "      <th>ILMN_1795356</th>\n",
       "      <th>ILMN_1801428</th>\n",
       "      <th>ILMN_1801769</th>\n",
       "      <th>ILMN_1864228</th>\n",
       "      <th>ILMN_2115534</th>\n",
       "      <th>ILMN_2179018</th>\n",
       "      <th>ILMN_2331501</th>\n",
       "    </tr>\n",
       "  </thead>\n",
       "  <tbody>\n",
       "    <tr>\n",
       "      <th>GSM1105438</th>\n",
       "      <td>6.92317</td>\n",
       "      <td>7.18248</td>\n",
       "      <td>6.71232</td>\n",
       "      <td>6.85849</td>\n",
       "      <td>6.77757</td>\n",
       "      <td>6.76613</td>\n",
       "      <td>7.06989</td>\n",
       "      <td>6.78824</td>\n",
       "      <td>9.31056</td>\n",
       "      <td>14.9082</td>\n",
       "    </tr>\n",
       "    <tr>\n",
       "      <th>GSM1105486</th>\n",
       "      <td>6.82055</td>\n",
       "      <td>7.12180</td>\n",
       "      <td>6.81113</td>\n",
       "      <td>6.87268</td>\n",
       "      <td>6.63592</td>\n",
       "      <td>6.77801</td>\n",
       "      <td>7.00357</td>\n",
       "      <td>7.11131</td>\n",
       "      <td>10.11210</td>\n",
       "      <td>14.9082</td>\n",
       "    </tr>\n",
       "    <tr>\n",
       "      <th>GSM1105487</th>\n",
       "      <td>7.15070</td>\n",
       "      <td>7.24666</td>\n",
       "      <td>6.65014</td>\n",
       "      <td>6.86715</td>\n",
       "      <td>6.76708</td>\n",
       "      <td>6.86820</td>\n",
       "      <td>7.22832</td>\n",
       "      <td>6.99260</td>\n",
       "      <td>10.39390</td>\n",
       "      <td>14.9522</td>\n",
       "    </tr>\n",
       "    <tr>\n",
       "      <th>GSM1105490</th>\n",
       "      <td>6.84683</td>\n",
       "      <td>7.09110</td>\n",
       "      <td>6.65142</td>\n",
       "      <td>6.88523</td>\n",
       "      <td>6.66969</td>\n",
       "      <td>6.75132</td>\n",
       "      <td>6.88630</td>\n",
       "      <td>6.95294</td>\n",
       "      <td>10.16470</td>\n",
       "      <td>14.8983</td>\n",
       "    </tr>\n",
       "    <tr>\n",
       "      <th>GSM1105491</th>\n",
       "      <td>7.33096</td>\n",
       "      <td>6.92369</td>\n",
       "      <td>6.76451</td>\n",
       "      <td>6.91245</td>\n",
       "      <td>6.72857</td>\n",
       "      <td>6.83683</td>\n",
       "      <td>7.04353</td>\n",
       "      <td>7.02654</td>\n",
       "      <td>9.69256</td>\n",
       "      <td>14.9766</td>\n",
       "    </tr>\n",
       "  </tbody>\n",
       "</table>\n",
       "</div>"
      ],
      "text/plain": [
       "            ILMN_1669208  ILMN_1680435  ILMN_1722603  ILMN_1795356  \\\n",
       "GSM1105438       6.92317       7.18248       6.71232       6.85849   \n",
       "GSM1105486       6.82055       7.12180       6.81113       6.87268   \n",
       "GSM1105487       7.15070       7.24666       6.65014       6.86715   \n",
       "GSM1105490       6.84683       7.09110       6.65142       6.88523   \n",
       "GSM1105491       7.33096       6.92369       6.76451       6.91245   \n",
       "\n",
       "            ILMN_1801428  ILMN_1801769  ILMN_1864228  ILMN_2115534  \\\n",
       "GSM1105438       6.77757       6.76613       7.06989       6.78824   \n",
       "GSM1105486       6.63592       6.77801       7.00357       7.11131   \n",
       "GSM1105487       6.76708       6.86820       7.22832       6.99260   \n",
       "GSM1105490       6.66969       6.75132       6.88630       6.95294   \n",
       "GSM1105491       6.72857       6.83683       7.04353       7.02654   \n",
       "\n",
       "            ILMN_2179018  ILMN_2331501  \n",
       "GSM1105438       9.31056       14.9082  \n",
       "GSM1105486      10.11210       14.9082  \n",
       "GSM1105487      10.39390       14.9522  \n",
       "GSM1105490      10.16470       14.8983  \n",
       "GSM1105491       9.69256       14.9766  "
      ]
     },
     "execution_count": 23,
     "metadata": {},
     "output_type": "execute_result"
    }
   ],
   "source": [
    "# Selecionar os 10 melhores genes, com análises ANOVA\n",
    "skb = SelectKBest(f_classif, k=10)\n",
    "\n",
    "labels = data.iloc[:,0]\n",
    "x_kbest = skb.fit_transform(data.iloc[:,1:], labels)\n",
    "\n",
    "columns_best = data[skb.get_feature_names_out()]\n",
    "data_kbest = pd.DataFrame(data=x_kbest, index=data.index, columns=columns_best.columns)\n",
    "print(data_kbest.shape)\n",
    "data_kbest.head()"
   ]
  },
  {
   "cell_type": "code",
   "execution_count": 24,
   "id": "08cd1c1d",
   "metadata": {},
   "outputs": [
    {
     "data": {
      "image/png": "[encoded data removed]",
      "text/plain": [
       "<Figure size 640x480 with 1 Axes>"
      ]
     },
     "metadata": {},
     "output_type": "display_data"
    }
   ],
   "source": [
    "# Visualização gráfica de Distribuição de Expressão Genética dos 10 genes principais\n",
    "\n",
    "sns.histplot(data_kbest, kde=True)\n",
    "plt.xlabel('Expressão genética')\n",
    "plt.ylabel('Frequência')\n",
    "plt.title('Distribuição de Expressão Genética')\n",
    "plt.show()"
   ]
  },
  {
   "cell_type": "markdown",
   "id": "8f561ef2",
   "metadata": {},
   "source": [
    "Com isto, consegue-se identificar os 10 genes cuja variação de expressão apresenta mais relevância para os dados a analisar. Ainda, com o histograma, é possível distinguir entre estes alguns que apresentam não só mais expressão genética, como também mais frequência. São exemplos destes os genes ILMN_2331501, ILMN_1722603, ILMN_1801769 e ILMN_1795356. Desta forma, pode-se deduzir que a variação de expressão genética destes genes é o fator que está mais fortemente relacionado com a resposta, ou a ausência desta, perante o tratamento com lítio. "
   ]
  },
  {
   "cell_type": "markdown",
   "id": "cc3d9786",
   "metadata": {},
   "source": [
    "## Escolha de Metadados de Maior Relevância"
   ]
  },
  {
   "cell_type": "markdown",
   "id": "0f6f9542",
   "metadata": {},
   "source": [
    "Tendo como objetivo principal a classificação de individuos como responders ou non-responders, considerou-se mais relevantes os metadados relativos ao tipo de tratamento recebido, o momento de colheita de amostra e, por fim, o resultado da classificação final. Assim, procede-se o trabalho apenas com os seguintes metadados: \"agent\", \"time\", \"other\"."
   ]
  },
  {
   "cell_type": "code",
   "execution_count": null,
   "id": "de50e359",
   "metadata": {},
   "outputs": [
    {
     "data": {
      "text/html": [
       "<div>\n",
       "<style scoped>\n",
       "    .dataframe tbody tr th:only-of-type {\n",
       "        vertical-align: middle;\n",
       "    }\n",
       "\n",
       "    .dataframe tbody tr th {\n",
       "        vertical-align: top;\n",
       "    }\n",
       "\n",
       "    .dataframe thead th {\n",
       "        text-align: right;\n",
       "    }\n",
       "</style>\n",
       "<table border=\"1\" class=\"dataframe\">\n",
       "  <thead>\n",
       "    <tr style=\"text-align: right;\">\n",
       "      <th></th>\n",
       "      <th>agent</th>\n",
       "      <th>time</th>\n",
       "      <th>other</th>\n",
       "    </tr>\n",
       "  </thead>\n",
       "  <tbody>\n",
       "    <tr>\n",
       "      <th>GSM1105438</th>\n",
       "      <td>control</td>\n",
       "      <td>baseline</td>\n",
       "      <td>non-responder</td>\n",
       "    </tr>\n",
       "    <tr>\n",
       "      <th>GSM1105486</th>\n",
       "      <td>control</td>\n",
       "      <td>baseline</td>\n",
       "      <td>non-responder</td>\n",
       "    </tr>\n",
       "    <tr>\n",
       "      <th>GSM1105487</th>\n",
       "      <td>control</td>\n",
       "      <td>baseline</td>\n",
       "      <td>non-responder</td>\n",
       "    </tr>\n",
       "    <tr>\n",
       "      <th>GSM1105490</th>\n",
       "      <td>control</td>\n",
       "      <td>baseline</td>\n",
       "      <td>non-responder</td>\n",
       "    </tr>\n",
       "    <tr>\n",
       "      <th>GSM1105491</th>\n",
       "      <td>control</td>\n",
       "      <td>baseline</td>\n",
       "      <td>non-responder</td>\n",
       "    </tr>\n",
       "    <tr>\n",
       "      <th>...</th>\n",
       "      <td>...</td>\n",
       "      <td>...</td>\n",
       "      <td>...</td>\n",
       "    </tr>\n",
       "    <tr>\n",
       "      <th>GSM1105525</th>\n",
       "      <td>lithium</td>\n",
       "      <td>1 month</td>\n",
       "      <td>responder</td>\n",
       "    </tr>\n",
       "    <tr>\n",
       "      <th>GSM1105552</th>\n",
       "      <td>lithium</td>\n",
       "      <td>1 month</td>\n",
       "      <td>responder</td>\n",
       "    </tr>\n",
       "    <tr>\n",
       "      <th>GSM1105452</th>\n",
       "      <td>lithium</td>\n",
       "      <td>1 month</td>\n",
       "      <td>responder</td>\n",
       "    </tr>\n",
       "    <tr>\n",
       "      <th>GSM1105453</th>\n",
       "      <td>lithium</td>\n",
       "      <td>1 month</td>\n",
       "      <td>responder</td>\n",
       "    </tr>\n",
       "    <tr>\n",
       "      <th>GSM1105456</th>\n",
       "      <td>lithium</td>\n",
       "      <td>1 month</td>\n",
       "      <td>responder</td>\n",
       "    </tr>\n",
       "  </tbody>\n",
       "</table>\n",
       "<p>120 rows × 3 columns</p>\n",
       "</div>"
      ],
      "text/plain": [
       "              agent      time          other\n",
       "GSM1105438  control  baseline  non-responder\n",
       "GSM1105486  control  baseline  non-responder\n",
       "GSM1105487  control  baseline  non-responder\n",
       "GSM1105490  control  baseline  non-responder\n",
       "GSM1105491  control  baseline  non-responder\n",
       "...             ...       ...            ...\n",
       "GSM1105525  lithium   1 month      responder\n",
       "GSM1105552  lithium   1 month      responder\n",
       "GSM1105452  lithium   1 month      responder\n",
       "GSM1105453  lithium   1 month      responder\n",
       "GSM1105456  lithium   1 month      responder\n",
       "\n",
       "[120 rows x 3 columns]"
      ]
     },
     "execution_count": 16,
     "metadata": {},
     "output_type": "execute_result"
    }
   ],
   "source": [
    "meta_principais = meta[['agent', 'time', 'other']]\n",
    "meta_principais"
   ]
  },
  {
   "cell_type": "markdown",
   "id": "c6aa00be",
   "metadata": {},
   "source": [
    "## Guardar dados e metadados trabalhados num novo ficheiro"
   ]
  },
  {
   "cell_type": "code",
   "execution_count": 168,
   "id": "cf334bf0",
   "metadata": {},
   "outputs": [],
   "source": [
    "data.to_csv(\"dados.csv\")\n",
    "meta_principais.to_csv(\"meta_dados.csv\")"
   ]
  }
 ],
 "metadata": {
  "kernelspec": {
   "display_name": "Python 3 (ipykernel)",
   "language": "python",
   "name": "python3"
  },
  "language_info": {
   "codemirror_mode": {
    "name": "ipython",
    "version": 3
   },
   "file_extension": ".py",
   "mimetype": "text/x-python",
   "name": "python",
   "nbconvert_exporter": "python",
   "pygments_lexer": "ipython3",
   "version": "3.9.0"
  }
 },
 "nbformat": 4,
 "nbformat_minor": 5
}
